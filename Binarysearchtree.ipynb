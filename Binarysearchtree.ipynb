{
 "cells": [
  {
   "cell_type": "code",
   "execution_count": 9,
   "metadata": {},
   "outputs": [],
   "source": [
    "class Node:\n",
    "\n",
    "    def __init__(self,val):\n",
    "        self.val = val\n",
    "        self.left = None\n",
    "        self.right = None\n",
    "        self.parent = None\n",
    "    \n",
    "    def __str__(self):\n",
    "        return str(self.val)\n",
    "        "
   ]
  },
  {
   "cell_type": "code",
   "execution_count": 18,
   "metadata": {},
   "outputs": [],
   "source": [
    "class BinarySearchTree:\n",
    "    \n",
    "    def __init__(self):\n",
    "        self.root = None\n",
    "        self.n = 0\n",
    "\n",
    "    def __len__(self):\n",
    "        return self.n\n",
    "\n",
    "    def insert(self,value):\n",
    "        newnode = Node(value)\n",
    "        curr = self.root\n",
    "        while curr:\n",
    "            if curr == None:\n",
    "                curr = newnode\n",
    "                self.n += 1\n",
    "                break\n",
    "                \n",
    "            elif newnode.val < curr.val:\n",
    "                if curr.left is None:\n",
    "                    curr.left = newnode\n",
    "                    curr.left.parent = curr\n",
    "                    self.n += 1\n",
    "                    break\n",
    "            else:\n",
    "                if curr.right is None:\n",
    "                    curr.right = newnode\n",
    "                    curr.right.parent = curr\n",
    "                    self.n += 1\n",
    "                    break\n",
    "\n",
    "    def search(self,value):\n",
    "        curr = self.root\n",
    "        while True:\n",
    "            if curr is None or curr.value == value:\n",
    "                return curr\n",
    "            elif value < curr.val:\n",
    "                if curr.left is None:\n",
    "                    return None\n",
    "                else:\n",
    "                    curr = curr.left\n",
    "            else:\n",
    "                if curr.right is None:\n",
    "                    return None\n",
    "                else:\n",
    "                    curr = curr.right\n",
    "    "
   ]
  },
  {
   "cell_type": "code",
   "execution_count": 19,
   "metadata": {},
   "outputs": [],
   "source": [
    "bst = BinarySearchTree()\n",
    "bst.insert(10)"
   ]
  },
  {
   "cell_type": "code",
   "execution_count": 20,
   "metadata": {},
   "outputs": [
    {
     "data": {
      "text/plain": [
       "0"
      ]
     },
     "execution_count": 20,
     "metadata": {},
     "output_type": "execute_result"
    }
   ],
   "source": [
    "bst.insert(11)\n",
    "bst.insert(12)\n",
    "bst.insert(7)\n",
    "bst.insert(6)\n",
    "\n",
    "len(bst)"
   ]
  },
  {
   "cell_type": "code",
   "execution_count": 21,
   "metadata": {},
   "outputs": [
    {
     "name": "stdout",
     "output_type": "stream",
     "text": [
      "<__main__.BinarySearchTree object at 0x000002327C343A30>\n"
     ]
    }
   ],
   "source": [
    "print(bst)"
   ]
  },
  {
   "cell_type": "code",
   "execution_count": 22,
   "metadata": {},
   "outputs": [],
   "source": [
    "bst.traverse()"
   ]
  },
  {
   "cell_type": "code",
   "execution_count": null,
   "metadata": {},
   "outputs": [],
   "source": []
  },
  {
   "cell_type": "code",
   "execution_count": null,
   "metadata": {},
   "outputs": [],
   "source": []
  }
 ],
 "metadata": {
  "kernelspec": {
   "display_name": "base",
   "language": "python",
   "name": "python3"
  },
  "language_info": {
   "codemirror_mode": {
    "name": "ipython",
    "version": 3
   },
   "file_extension": ".py",
   "mimetype": "text/x-python",
   "name": "python",
   "nbconvert_exporter": "python",
   "pygments_lexer": "ipython3",
   "version": "3.9.13"
  }
 },
 "nbformat": 4,
 "nbformat_minor": 2
}
