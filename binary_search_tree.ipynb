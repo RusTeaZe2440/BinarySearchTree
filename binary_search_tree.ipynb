{
 "cells": [
  {
   "cell_type": "code",
   "execution_count": 3,
   "metadata": {},
   "outputs": [],
   "source": [
    "class Node:\n",
    "\n",
    "    def __init__(self, value):\n",
    "        self.value = value\n",
    "        self.left = None\n",
    "        self.right = None\n",
    "        self.parent = None\n",
    "    \n",
    "    def __str__(self):\n",
    "        return str(self.value)\n",
    "    "
   ]
  },
  {
   "cell_type": "code",
   "execution_count": 4,
   "metadata": {},
   "outputs": [],
   "source": [
    "class BinarySearchTree:\n",
    "\n",
    "    def __init__(self):\n",
    "        self.root = None\n",
    "        self.n = 0\n",
    "\n",
    "    def __len__(self):\n",
    "        return self.n\n",
    "    \n",
    "    def __str__(self):\n",
    "        return str(list(self.in_order_traversal(self.root)))\n",
    "    \n",
    "    def insert_value(self, value):\n",
    "        new_node = Node(value=value)\n",
    "        if self.root == None:\n",
    "            self.root = new_node\n",
    "            self.n += 1\n",
    "        else:\n",
    "            curr = self.root\n",
    "            while curr:\n",
    "                if value < curr.value:\n",
    "                    if curr.left is None:\n",
    "                        curr.left = new_node\n",
    "                        self.n += 1\n",
    "                        curr.left.parent = curr\n",
    "                        break\n",
    "                    else:\n",
    "                        curr = curr.left\n",
    "                else:\n",
    "                    if curr.right is None:\n",
    "                        curr.right = new_node\n",
    "                        self.n += 1\n",
    "                        curr.right.parent = curr\n",
    "                        break\n",
    "                    else:\n",
    "                        curr = curr.right\n",
    "\n",
    "    def search_value(self, value):\n",
    "        curr = self.root\n",
    "        if self.root is None:\n",
    "            return 'Empty Tree'\n",
    "        \n",
    "        while True:\n",
    "            if curr.value is value:\n",
    "                return curr\n",
    "            elif value < curr.value:\n",
    "                if curr.left is None:\n",
    "                    return 'Not found'\n",
    "                else:\n",
    "                    curr = curr.left\n",
    "            else:\n",
    "                if curr.right is None:\n",
    "                    return 'Not found'\n",
    "                else:\n",
    "                    curr = curr.right\n",
    "    def delete(self, value):\n",
    "        node = self.search_value(value=value)\n",
    "        if node is None:\n",
    "            return None\n",
    "        else:\n",
    "            self._delete(node)\n",
    "\n",
    "    def _delete(self, node):\n",
    "        if node.left is None and node.right is None:\n",
    "            if node.parent is None:\n",
    "                self.root = node\n",
    "            else:\n",
    "                if node.parent.right is node:\n",
    "                    node.parent.right = None\n",
    "                else:\n",
    "                    node.parent.left = None\n",
    "        \n",
    "        elif node.left is None or node.right is None:\n",
    "            child_node = node.left if node.left is not None else node.right\n",
    "\n",
    "            if node.parent is None:\n",
    "                child_node.parent = node\n",
    "                self.root = child_node\n",
    "\n",
    "            else:\n",
    "                if node.parent.right is node:\n",
    "                    node.parent.right = child_node\n",
    "                else:\n",
    "                    node.parent.left = child_node\n",
    "                    child_node.parent = node.parent\n",
    "            node.parent = node.left = node.right = None\n",
    "        else:\n",
    "            successor = self.successor(node)\n",
    "            node.value = successor.value\n",
    "            self._delete(successor)\n",
    "\n",
    "    def successor(self, node):\n",
    "        if node is None:\n",
    "            return None\n",
    "        if node.right is None:\n",
    "            return None\n",
    "        else:\n",
    "            curr = node.right\n",
    "            while curr.left:\n",
    "                curr = curr.left\n",
    "            return curr\n",
    "\n",
    "\n",
    "    def traverse(self, order):\n",
    "        if order == 'inorder':\n",
    "            yield from self.in_order_traversal(self.root)\n",
    "        elif order == 'preorder':\n",
    "            yield from self.pre_order_traversal(self.root)\n",
    "        elif order == 'postorder':\n",
    "            yield from self.post_order_traversal(self.root)\n",
    "        else:\n",
    "            return 'Unknown order'\n",
    "        \n",
    "    def in_order_traversal(self, node):\n",
    "        if node:\n",
    "            yield from  self.in_order_traversal(node.left)\n",
    "            yield node.value\n",
    "            yield from self.in_order_traversal(node.right)\n",
    "\n",
    "    def pre_order_traversal(self, node):\n",
    "        if node:\n",
    "            yield node.value\n",
    "            yield from  self.pre_order_traversal(node.left)\n",
    "            yield from self.pre_order_traversal(node.right)\n",
    "\n",
    "    def post_order_traversal(self, node):\n",
    "        if node:\n",
    "            yield from  self.post_order_traversal(node.left)\n",
    "            yield from self.post_order_traversal(node.right)\n",
    "            yield node.value\n"
   ]
  },
  {
   "cell_type": "code",
   "execution_count": 5,
   "metadata": {},
   "outputs": [],
   "source": [
    "bst = BinarySearchTree()\n",
    "bst.insert_value(10)\n",
    "bst.insert_value(9)\n",
    "bst.insert_value(7)\n",
    "bst.insert_value(16)\n",
    "bst.insert_value(15)\n",
    "bst.insert_value(13)\n",
    "bst.insert_value(20)\n",
    "bst.insert_value(8)\n",
    "bst.insert_value(1)"
   ]
  },
  {
   "cell_type": "code",
   "execution_count": 49,
   "metadata": {},
   "outputs": [
    {
     "data": {
      "text/plain": [
       "9"
      ]
     },
     "execution_count": 49,
     "metadata": {},
     "output_type": "execute_result"
    }
   ],
   "source": [
    "len(bst)"
   ]
  },
  {
   "cell_type": "code",
   "execution_count": 6,
   "metadata": {},
   "outputs": [
    {
     "name": "stdout",
     "output_type": "stream",
     "text": [
      "[10, 9, 7, 1, 8, 16, 15, 13, 20]\n"
     ]
    }
   ],
   "source": [
    "elements = []\n",
    "for i in bst.traverse('preorder'):\n",
    "    elements.append(i)\n",
    "print(elements)"
   ]
  },
  {
   "cell_type": "code",
   "execution_count": 7,
   "metadata": {},
   "outputs": [],
   "source": [
    "bst.delete(15)"
   ]
  },
  {
   "cell_type": "code",
   "execution_count": 8,
   "metadata": {},
   "outputs": [
    {
     "name": "stdout",
     "output_type": "stream",
     "text": [
      "[10, 9, 7, 1, 8, 16, 13, 20]\n"
     ]
    }
   ],
   "source": [
    "elements = []\n",
    "for i in bst.traverse('preorder'):\n",
    "    elements.append(i)\n",
    "print(elements)"
   ]
  },
  {
   "cell_type": "code",
   "execution_count": null,
   "metadata": {},
   "outputs": [],
   "source": []
  }
 ],
 "metadata": {
  "kernelspec": {
   "display_name": "base",
   "language": "python",
   "name": "python3"
  },
  "language_info": {
   "codemirror_mode": {
    "name": "ipython",
    "version": 3
   },
   "file_extension": ".py",
   "mimetype": "text/x-python",
   "name": "python",
   "nbconvert_exporter": "python",
   "pygments_lexer": "ipython3",
   "version": "3.9.13"
  }
 },
 "nbformat": 4,
 "nbformat_minor": 2
}
